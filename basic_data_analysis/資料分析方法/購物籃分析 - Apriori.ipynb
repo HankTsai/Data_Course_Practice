{
 "cells": [
  {
   "cell_type": "code",
   "execution_count": 1,
   "metadata": {
    "collapsed": false
   },
   "outputs": [
    {
     "name": "stdout",
     "output_type": "stream",
     "text": [
      "apple,beer,rice,chicken\n",
      "apple,beer,rice\n",
      "apple,beer\n",
      "apple,mango\n",
      "milk,beer,rice,chicken\n",
      "milk,beer,rice\n",
      "milk,beer\n",
      "milk,mango\n"
     ]
    }
   ],
   "source": [
    "f = open('tesco.csv','r')\n",
    "print(f.read())"
   ]
  },
  {
   "cell_type": "code",
   "execution_count": 2,
   "metadata": {
    "collapsed": false
   },
   "outputs": [
    {
     "name": "stdout",
     "output_type": "stream",
     "text": [
      "item: ('beer', 'apple') , 0.375\r\n",
      "item: ('beer', 'milk') , 0.375\r\n",
      "item: ('rice',) , 0.500\r\n",
      "item: ('apple',) , 0.500\r\n",
      "item: ('milk',) , 0.500\r\n",
      "item: ('beer', 'rice') , 0.500\r\n",
      "item: ('beer',) , 0.750\r\n",
      "\r\n",
      "------------------------ RULES:\r\n",
      "Rule: ('beer',) ==> ('apple',) , 0.500\r\n",
      "Rule: ('beer',) ==> ('milk',) , 0.500\r\n",
      "Rule: ('beer',) ==> ('rice',) , 0.667\r\n",
      "Rule: ('apple',) ==> ('beer',) , 0.750\r\n",
      "Rule: ('milk',) ==> ('beer',) , 0.750\r\n",
      "Rule: ('rice',) ==> ('beer',) , 1.000\r\n"
     ]
    }
   ],
   "source": [
    "!python3 apriori.py -f tesco.csv -s 0.3 -c 0.5   # ! 指的是在system執行command line (不是在ipython shell)"
   ]
  },
  {
   "cell_type": "code",
   "execution_count": null,
   "metadata": {
    "collapsed": true
   },
   "outputs": [],
   "source": []
  }
 ],
 "metadata": {
  "anaconda-cloud": {},
  "kernelspec": {
   "display_name": "Python [default]",
   "language": "python",
   "name": "python3"
  },
  "language_info": {
   "codemirror_mode": {
    "name": "ipython",
    "version": 3
   },
   "file_extension": ".py",
   "mimetype": "text/x-python",
   "name": "python",
   "nbconvert_exporter": "python",
   "pygments_lexer": "ipython3",
   "version": "3.5.2"
  }
 },
 "nbformat": 4,
 "nbformat_minor": 1
}
